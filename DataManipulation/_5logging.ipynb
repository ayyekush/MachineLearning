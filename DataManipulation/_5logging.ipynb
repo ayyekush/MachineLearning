{
 "cells": [
  {
   "cell_type": "markdown",
   "metadata": {},
   "source": [
    "# Python Logging"
   ]
  },
  {
   "cell_type": "markdown",
   "metadata": {},
   "source": [
    "Logging is a crucial aspect of any application, providing a way to track events, errors, and operational information. Python's built-in logging module offers a flexible framework for emitting log messages from Python programs. In this lesson, we will cover the basics of logging, including how to configure logging, log levels, and best practices for using logging in Python applications."
   ]
  },
  {
   "cell_type": "code",
   "execution_count": 1,
   "metadata": {},
   "outputs": [],
   "source": [
    "#restart the kernel is sometime it doesnt work\n",
    "import logging\n",
    "\n",
    "## Configure the logging\n",
    "\n",
    "# d1 testing purposes, doesnt actually right\n",
    "# logging.basicConfig(level=logging.DEBUG)\n",
    "\n",
    "# this actually rights\n",
    "logging.basicConfig(\n",
    "    filename='0app.log',\n",
    "    #doesnt create file if not present\n",
    "    filemode='w',\n",
    "    level=logging.DEBUG,\n",
    "    format='%(asctime)s-%(name)s-%(levelname)s-%(message)s',\n",
    "    datefmt='%Y-%m-%d %H:%M:%S'\n",
    "    )\n",
    "\n",
    "\n",
    "## log messages with different severity levels in ascing order\n",
    "# - DEBUG: Detailed information, typically of interest only when diagnosing problems.\n",
    "logging.debug(\"This is a debug message\")\n",
    "# - INFO: Confirmation that things are working as expected.\n",
    "logging.info(\"This is an info message\")\n",
    "# - WARNING: An indication that something unexpected happened or indicative of some problem in the near future (e.g., ‘disk space low’). The software is still working as expected.\n",
    "logging.warning(\"This is a warning message\")\n",
    "# - ERROR: Due to a more serious problem, the software has not been able to perform some function.\n",
    "logging.error(\"This is an error message\")\n",
    "# - CRITICAL: A very serious error, indicating that the program itself may be unable to continue running.\n",
    "logging.critical(\"This is a critical message\")"
   ]
  },
  {
   "cell_type": "markdown",
   "metadata": {},
   "source": [
    "# Logging with Multiple Loggers"
   ]
  },
  {
   "cell_type": "markdown",
   "metadata": {},
   "source": [
    "You can create multiple loggers for different parts of your application."
   ]
  },
  {
   "cell_type": "markdown",
   "metadata": {},
   "source": [
    "### Virtual%% logging"
   ]
  },
  {
   "cell_type": "code",
   "execution_count": 2,
   "metadata": {},
   "outputs": [],
   "source": [
    "import logging\n",
    "## create a logger for module1\n",
    "logger1=logging.getLogger(\"module1\")\n",
    "logger1.setLevel(logging.DEBUG)\n",
    "\n",
    "##create a logger for module 2\n",
    "\n",
    "logger2=logging.getLogger(\"module2\")\n",
    "logger2.setLevel(logging.WARNING)\n",
    "\n",
    "# Configure logging settings\n",
    "logging.basicConfig(\n",
    "    level=logging.DEBUG,\n",
    "    format='%(asctime)s - %(name)s - %(levelname)s - %(message)s',\n",
    "    datefmt='%Y-%m-%d %H:%M:%S'\n",
    ")\n",
    "## log message with different loggers\n",
    "logger1.debug(\"This is debug message for module1\")\n",
    "logger2.warning(\"This is a warning message for module 2\")\n",
    "logger2.error(\"This is an error message\")"
   ]
  },
  {
   "cell_type": "markdown",
   "metadata": {},
   "source": [
    "### Logging To Real File"
   ]
  },
  {
   "cell_type": "code",
   "execution_count": 4,
   "metadata": {},
   "outputs": [],
   "source": [
    "import logging\n",
    "\n",
    "# Create a logger for module1\n",
    "logger1 = logging.getLogger(\"module1\")\n",
    "logger1.setLevel(logging.DEBUG)  # Set to DEBUG level\n",
    "\n",
    "# Create a file handler for module1\n",
    "handler1 = logging.FileHandler('0module1.log')  # Log file for module1\n",
    "handler1.setLevel(logging.DEBUG)  # Set handler level\n",
    "\n",
    "# Create a formatter and set it for handler1\n",
    "formatter1 = logging.Formatter('%(asctime)s - %(name)s - %(levelname)s - %(message)s', datefmt='%Y-%m-%d %H:%M:%S')\n",
    "handler1.setFormatter(formatter1)\n",
    "\n",
    "# Add the handler to logger1\n",
    "logger1.addHandler(handler1)\n",
    "\n",
    "# Create a logger for module2\n",
    "logger2 = logging.getLogger(\"module2\")\n",
    "logger2.setLevel(logging.WARNING)  # Set to WARNING level\n",
    "\n",
    "# Create a file handler for module2\n",
    "handler2 = logging.FileHandler('0module2.log')  # Log file for module2\n",
    "handler2.setLevel(logging.WARNING)  # Set handler level\n",
    "\n",
    "# Create a formatter and set it for handler2\n",
    "formatter2 = logging.Formatter('%(asctime)s - %(name)s - %(levelname)s - %(message)s', datefmt='%Y-%m-%d %H:%M:%S')\n",
    "handler2.setFormatter(formatter2)\n",
    "\n",
    "# Add the handler to logger2\n",
    "logger2.addHandler(handler2)\n",
    "\n",
    "# Example log messages\n",
    "logger1.debug(\"This is a debug message from module1.\")\n",
    "logger1.info(\"This is an info message from module1.\")\n",
    "logger1.warning(\"This is a warning message from module1.\")\n",
    "\n",
    "logger2.warning(\"This is a warning message from module2.\")\n",
    "logger2.error(\"This is an error message from module2.\")\n",
    "logger2.critical(\"This is a critical message from module2.\")\n"
   ]
  }
 ],
 "metadata": {
  "kernelspec": {
   "display_name": "Python 3",
   "language": "python",
   "name": "python3"
  },
  "language_info": {
   "codemirror_mode": {
    "name": "ipython",
    "version": 3
   },
   "file_extension": ".py",
   "mimetype": "text/x-python",
   "name": "python",
   "nbconvert_exporter": "python",
   "pygments_lexer": "ipython3",
   "version": "3.12.7"
  }
 },
 "nbformat": 4,
 "nbformat_minor": 2
}
