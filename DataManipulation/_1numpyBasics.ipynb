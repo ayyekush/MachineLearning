{
 "cells": [
  {
   "cell_type": "markdown",
   "id": "d7960e91",
   "metadata": {},
   "source": [
    "## 2. Creating Arrays"
   ]
  },
  {
   "cell_type": "code",
   "execution_count": 2,
   "id": "90b6414c",
   "metadata": {},
   "outputs": [
    {
     "name": "stdout",
     "output_type": "stream",
     "text": [
      "1D Array: [1 2 3 4]\n",
      "2D Array:\n",
      "[[1 2]\n",
      " [3 4]]\n",
      "Shape of 1D array: (4,)\n",
      "Shape of 2D array: (2, 2)\n",
      "Data type of elements: int64\n"
     ]
    }
   ],
   "source": [
    "import numpy as np\n",
    "# 1D Array\n",
    "arr = np.array([1, 2, 3, 4])\n",
    "print('1D Array:', arr)\n",
    "\n",
    "# 2D Array\n",
    "arr_2d = np.array([[1, 2], [3, 4]])\n",
    "print('2D Array:')\n",
    "print( arr_2d)\n",
    "\n",
    "print('Shape of 1D array:', arr.shape)\n",
    "print('Shape of 2D array:', arr_2d.shape)\n",
    "print('Data type of elements:', arr.dtype)"
   ]
  },
  {
   "cell_type": "markdown",
   "id": "076e9321",
   "metadata": {},
   "source": [
    "## 4. Basic Operations"
   ]
  },
  {
   "cell_type": "code",
   "execution_count": 3,
   "id": "3cbbd91a",
   "metadata": {},
   "outputs": [
    {
     "name": "stdout",
     "output_type": "stream",
     "text": [
      "Addition: [5 7 9]\n",
      "Multiplication: [ 4 10 18]\n",
      "First element of arr1: 1\n",
      "Elements from index 1 to 2: [2 3]\n",
      "Element at row 0, col 1 in arr_2d: 2\n",
      "Element at row 0, col 1 in arr_2d: 2\n"
     ]
    }
   ],
   "source": [
    "arr1 = np.array([1, 2, 3])\n",
    "arr2 = np.array([4, 5, 6])\n",
    "\n",
    "# Element-wise addition\n",
    "add = arr1 + arr2\n",
    "print('Addition:', add)\n",
    "\n",
    "# Element-wise multiplication\n",
    "mul = arr1 * arr2\n",
    "print('Multiplication:', mul)\n",
    "\n",
    "# Indexing\n",
    "print('First element of arr1:', arr1[0])\n",
    "\n",
    "# Slicing\n",
    "print('Elements from index 1 to 2:', arr1[1:3])\n",
    "\n",
    "# 2D Array indexing\n",
    "print('Element at row 0, col 1 in arr_2d:', arr_2d[0, 1])\n",
    "print('Element at row 0, col 1 in arr_2d:', arr_2d[0][1])"
   ]
  },
  {
   "cell_type": "markdown",
   "id": "46cee336",
   "metadata": {},
   "source": [
    "## 3. Array Initialization And Reshaping"
   ]
  },
  {
   "cell_type": "code",
   "execution_count": 4,
   "id": "c294c8f1",
   "metadata": {},
   "outputs": [
    {
     "name": "stdout",
     "output_type": "stream",
     "text": [
      "Zeros: [[0. 0.]\n",
      " [0. 0.]]\n",
      "Zeros: [[1. 1.]\n",
      " [1. 1.]]\n",
      "Ones: [[1. 1. 1.]\n",
      " [1. 1. 1.]\n",
      " [1. 1. 1.]]\n",
      "Random values: [[0.23020738 0.71509772 0.08327382]\n",
      " [0.50630315 0.78865027 0.3356557 ]]\n",
      "Reshaped array: [[1 2 3]\n",
      " [4 5 6]]\n",
      "Transposed array: [[1 4]\n",
      " [2 5]\n",
      " [3 6]]\n"
     ]
    }
   ],
   "source": [
    "zeros = np.zeros((2, 2))\n",
    "ones = np.ones((3, 3))\n",
    "random = np.random.rand(2, 3)\n",
    "print('Zeros:', zeros)\n",
    "zeros[:][:]=1\n",
    "print('Zeros:', zeros)\n",
    "print('Ones:', ones)\n",
    "print('Random values:', random)\n",
    "\n",
    "arr = np.array([1, 2, 3, 4, 5, 6])\n",
    "reshaped = arr.reshape((2, 3))\n",
    "print('Reshaped array:', arr.reshape((2, 3)))\n",
    "\n",
    "print('Transposed array:', arr.reshape((2, 3)).T)\n",
    "\n"
   ]
  },
  {
   "cell_type": "markdown",
   "id": "4cdd79e9",
   "metadata": {},
   "source": [
    "## 8. Mathematical Functions"
   ]
  },
  {
   "cell_type": "code",
   "execution_count": 5,
   "id": "fa6a1e1f",
   "metadata": {},
   "outputs": [
    {
     "name": "stdout",
     "output_type": "stream",
     "text": [
      "Sum: 15\n",
      "Mean: 3.0\n",
      "Max: [ 0.84147098  0.90929743  0.14112001 -0.7568025  -0.95892427]\n",
      "Sin: [  2.71828183   7.3890561   20.08553692  54.59815003 148.4131591 ]\n",
      "log base x: [0.         0.30103    0.47712125 0.60205999 0.69897   ]\n"
     ]
    }
   ],
   "source": [
    "arr = np.array([1, 2, 3, 4, 5])\n",
    "\n",
    "print('Sum:', np.sum(arr))\n",
    "print('Mean:', np.mean(arr))\n",
    "print('Max:', np.sin(arr))\n",
    "print('Sin:', np.exp(arr))\n",
    "print('log base x:', np.log10(arr))"
   ]
  },
  {
   "cell_type": "markdown",
   "id": "2265d18a",
   "metadata": {},
   "source": [
    "## 9. Linear Algebra Operations"
   ]
  },
  {
   "cell_type": "code",
   "execution_count": 6,
   "id": "0c259b11",
   "metadata": {},
   "outputs": [
    {
     "name": "stdout",
     "output_type": "stream",
     "text": [
      "Matrix multiplication: [[19 22]\n",
      " [43 50]]\n",
      "Determinant of matrix1: -2.0000000000000004\n",
      "mean of array 2.5\n"
     ]
    }
   ],
   "source": [
    "matrix1 = np.array([[1, 2], [3, 4]])\n",
    "matrix2 = np.array([[5, 6], [7, 8]])\n",
    "\n",
    "# Matrix multiplication\n",
    "result = np.dot(matrix1, matrix2)\n",
    "print('Matrix multiplication:', result)\n",
    "\n",
    "# Determinant\n",
    "det = np.linalg.det(matrix1)\n",
    "print('Determinant of matrix1:', det)\n",
    "\n",
    "# Mean / Deviation / Variance\n",
    "print(\"mean of array\",np.mean(matrix1))#all elemnents, shape doesnt matter\n",
    "# print(\"mean of array\",np.median(matrix1))#all elemnents, shape doesnt matter\n",
    "# print(\"mean of array\",np.std(matrix1))#all elemnents, shape doesnt matter\n",
    "# print(\"mean of array\",np.var(matrix1))#all elemnents, shape doesnt matter\n"
   ]
  },
  {
   "cell_type": "markdown",
   "id": "0a202ba1",
   "metadata": {},
   "source": [
    "## Logical Operations"
   ]
  },
  {
   "cell_type": "code",
   "execution_count": 7,
   "id": "80841323",
   "metadata": {},
   "outputs": [
    {
     "name": "stdout",
     "output_type": "stream",
     "text": [
      "[[ True False  True]\n",
      " [False  True False]]\n",
      "\n",
      "[8 6 7]\n"
     ]
    }
   ],
   "source": [
    "data= np.array([[8,3,6],[5,7,4]])\n",
    "print(data>5)\n",
    "print()\n",
    "print(data[data>5])\n"
   ]
  },
  {
   "cell_type": "markdown",
   "id": "d89c4258",
   "metadata": {},
   "source": []
  }
 ],
 "metadata": {
  "kernelspec": {
   "display_name": "Python 3",
   "language": "python",
   "name": "python3"
  },
  "language_info": {
   "codemirror_mode": {
    "name": "ipython",
    "version": 3
   },
   "file_extension": ".py",
   "mimetype": "text/x-python",
   "name": "python",
   "nbconvert_exporter": "python",
   "pygments_lexer": "ipython3",
   "version": "3.12.7"
  }
 },
 "nbformat": 4,
 "nbformat_minor": 5
}
