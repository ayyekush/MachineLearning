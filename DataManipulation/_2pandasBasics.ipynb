{
 "cells": [
  {
   "cell_type": "markdown",
   "id": "a6fa8410",
   "metadata": {},
   "source": [
    "## Basics of Pandas in Python"
   ]
  },
  {
   "cell_type": "markdown",
   "id": "08b5fa32",
   "metadata": {},
   "source": [
    "\n",
    "Pandas is an open-source data manipulation and analysis library for Python. It provides data structures like Series and DataFrame which make it easy to work with structured data.\n",
    "    "
   ]
  },
  {
   "cell_type": "code",
   "execution_count": 1,
   "id": "57d4538b",
   "metadata": {},
   "outputs": [
    {
     "name": "stdout",
     "output_type": "stream",
     "text": [
      "a    10\n",
      "b    20\n",
      "c    30\n",
      "d    40\n",
      "dtype: int64\n",
      "    Name  Age      City\n",
      "0   John   28  New York\n",
      "1   Anna   24     Paris\n",
      "2  Peter   35    Berlin\n",
      "3  Linda   32    London\n",
      "0     John\n",
      "1     Anna\n",
      "2    Peter\n",
      "3    Linda\n",
      "Name: Name, dtype: object\n"
     ]
    }
   ],
   "source": [
    "import pandas as pd\n",
    "\n",
    "# Create a Pandas Series\n",
    "s = pd.Series([10, 20, 30, 40], index=['a', 'b', 'c', 'd'])\n",
    "# or\n",
    "s=pd.Series({'a':10,'b':20,'c':30,'d':40})\n",
    "print(s)\n",
    "\n",
    "# Create a DataFrame\n",
    "df = pd.DataFrame( {'Name': ['John', 'Anna', 'Peter', 'Linda'],\n",
    "        'Age': [28, 24, 35, 32],\n",
    "        'City': ['New York', 'Paris', 'Berlin', 'London']})\n",
    "print(df)\n",
    "print(df['Name'])\n",
    "# import numpy as np\n",
    "# print(np.array(df))"
   ]
  },
  {
   "cell_type": "markdown",
   "id": "7871222e",
   "metadata": {},
   "source": [
    "## Data Indexing & Manipulation"
   ]
  },
  {
   "cell_type": "code",
   "execution_count": null,
   "id": "47117ee6",
   "metadata": {},
   "outputs": [
    {
     "name": "stdout",
     "output_type": "stream",
     "text": [
      "Name        John\n",
      "Age           28\n",
      "City    New York\n",
      "Name: 0, dtype: object\n",
      "\n",
      "Name        John\n",
      "Age           28\n",
      "City    New York\n",
      "Name: 0, dtype: object\n",
      "\n",
      "    Name  Age      City  Salary\n",
      "0   John   28  New York       3\n",
      "1   Anna   24     Paris       4\n",
      "2  Peter   35    Berlin       4\n",
      "3  Linda   32    London       5\n",
      "\n",
      "    Name  Age    City  Salary\n",
      "2  Peter   35  Berlin       4\n",
      "3  Linda   32  London       5\n",
      "\n",
      "    Name  Age      City  Salary\n",
      "1   Anna   24     Paris       4\n",
      "0   John   28  New York       3\n",
      "3  Linda   32    London       5\n",
      "2  Peter   35    Berlin       4\n",
      "\n",
      "    Name    Age   City  Salary\n",
      "0  False  False  False   False\n",
      "1  False  False  False   False\n",
      "2  False  False  False   False\n",
      "3  False  False  False   False\n",
      "\n",
      "    Name  Age      City  Salary\n",
      "0   John   28  New York       3\n",
      "1   Anna   24     Paris       4\n",
      "2  Peter   35    Berlin       4\n",
      "3  Linda   32    London       5\n"
     ]
    }
   ],
   "source": [
    "\n",
    "# Select row by label\n",
    "print(df.loc[0])  # Select the first row (index 0)\n",
    "print()\n",
    "# Select row by position\n",
    "print(df.iloc[0])  # Same as above, selects the first row\n",
    "# print(df.at/iat(1,'Name'))\n",
    "print()\n",
    "\n",
    "#adding a new column (no of row ekements needa be same)\n",
    "df['Salary']=[3,4,4,5]\n",
    "#drop always index wise rows del karta hai col del ke liye \n",
    "#   add axis=1(implicitly by default 0)\n",
    "df.drop('Salary',axis=1)\n",
    "#but this is temporary, for permanent, add inplace=True\n",
    "print(df)\n",
    "print()\n",
    "\n",
    "# Filter rows where Age is greater than 30\n",
    "print(df[df['Age'] > 30])\n",
    "print()\n",
    "# Sort the DataFrame by Age\n",
    "print(df.sort_values(by='Age'))\n",
    "\n",
    "## Missing Data\n",
    "print()\n",
    "# Detect missing values\n",
    "print(df.isnull())\n",
    "print()\n",
    "print(df)\n",
    "\n",
    "# Fill missing values with a default value\n",
    "# df.fillna(0)\n",
    "\n",
    "# Remove missing values\n",
    "# df.dropna():\n",
    "\n",
    "    "
   ]
  },
  {
   "cell_type": "markdown",
   "id": "24928154",
   "metadata": {},
   "source": [
    "## Basic Statistics"
   ]
  },
  {
   "cell_type": "code",
   "execution_count": 3,
   "id": "a93a1ba7",
   "metadata": {},
   "outputs": [
    {
     "name": "stdout",
     "output_type": "stream",
     "text": [
      "29.75\n",
      "             Age    Salary\n",
      "count   4.000000  4.000000\n",
      "mean   29.750000  4.000000\n",
      "std     4.787136  0.816497\n",
      "min    24.000000  3.000000\n",
      "25%    27.000000  3.750000\n",
      "50%    30.000000  4.000000\n",
      "75%    32.750000  4.250000\n",
      "max    35.000000  5.000000\n"
     ]
    }
   ],
   "source": [
    "\n",
    "# print(df.describe())\n",
    "\n",
    "# Get the .mean/.sum of the Age column\n",
    "print(df['Age'].mean())\n",
    "\n",
    "# Get a summary of statistics for the DataFrame\n",
    "print(df.describe())"
   ]
  },
  {
   "cell_type": "markdown",
   "id": "00945251",
   "metadata": {},
   "source": [
    "## Read/Write to other files:"
   ]
  },
  {
   "cell_type": "code",
   "execution_count": 4,
   "id": "0271021b",
   "metadata": {},
   "outputs": [],
   "source": [
    "# Pandas makes it easy to read from and write to different file formats,\n",
    "#       such as CSV, Excel, JSON, and more.\n",
    "\n",
    "# Read data from a CSV file\n",
    "# df = pd.read_csv('filename.csv')\n",
    "#df.describe()\n",
    "# df.head(5) #for first five \n",
    "# df.tail(5) #for last five\n",
    "\n",
    "# Write DataFrame to a CSV file\n",
    "# df.to_csv('output.csv', index=False)\n",
    "# df.dtypes\n",
    "# filling missing values with the mean of the column\n",
    "#       df['Sales_fillNA']=df['Sales'].fillna(df['Sales'].mean())\n"
   ]
  }
 ],
 "metadata": {
  "kernelspec": {
   "display_name": "Python 3",
   "language": "python",
   "name": "python3"
  },
  "language_info": {
   "codemirror_mode": {
    "name": "ipython",
    "version": 3
   },
   "file_extension": ".py",
   "mimetype": "text/x-python",
   "name": "python",
   "nbconvert_exporter": "python",
   "pygments_lexer": "ipython3",
   "version": "3.12.7"
  }
 },
 "nbformat": 4,
 "nbformat_minor": 5
}
